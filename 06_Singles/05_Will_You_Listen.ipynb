{
 "cells": [
  {
   "cell_type": "markdown",
   "id": "914e55e1",
   "metadata": {},
   "source": [
    "# 🎵 Will You Listen\n",
    "\n",
    "**Album:** Singles\n",
    "\n",
    "**Performed by:** Hawk Eye\n",
    "**Label:** \n",
    "**Genre:** \n",
    "**UPC:** \n",
    "**Release Date:** \n",
    "\n",
    "\n",
    "```text\n",
    "[PASTE LYRICS HERE]\n",
    "```"
   ]
  }
 ],
 "metadata": {},
 "nbformat": 4,
 "nbformat_minor": 5
}
