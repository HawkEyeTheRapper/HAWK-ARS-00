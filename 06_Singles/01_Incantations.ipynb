{
 "cells": [
  {
   "cell_type": "markdown",
   "id": "80c198cc",
   "metadata": {},
   "source": [
    "# 🎵 Incantations\n",
    "\n",
    "**Album:** Singles\n",
    "\n",
    "**Performed by:** Hawk Eye\n",
    "**Label:** \n",
    "**Genre:** \n",
    "**UPC:** \n",
    "**Release Date:** \n",
    "\n",
    "\n",
    "```text\n",
    "[PASTE LYRICS HERE]\n",
    "```"
   ]
  }
 ],
 "metadata": {},
 "nbformat": 4,
 "nbformat_minor": 5
}
