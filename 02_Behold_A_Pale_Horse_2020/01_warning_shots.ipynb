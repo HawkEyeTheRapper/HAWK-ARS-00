{
 "cells": [
  {
   "cell_type": "markdown",
   "id": "785b9dc4",
   "metadata": {},
   "source": [
    "# 🎵 Behold A Pale Horse\n",
    "\n",
    "**Album:** Behold A Pale Horse 2020\n",
    "\n",
    "**Performed by:** Hawk Eye The Rapper  \n",
    "**Label:** LulzSwag Records  \n",
    "**Genre:** Rap  \n",
    "**UPC:** 885007879206  \n",
    "\n",
    "🗃️ **Track Metadata**  \n",
    "• Track #: 01  \n",
    "• Title: Warning Shots  \n",
    "• Artist: Hawk Eye The Rapper  \n",
    "• Project: Behold A Pale Horse  \n",
    "released July 4th, 2020\n",
    "**Dedicated to the late Milton William Cooper**\n",
    "\n",
    "```text\n",
    "[PASTE LYRICS HERE]\n",
    "```"
   ]
  }
 ],
 "metadata": {
  "kernelspec": {
   "display_name": "Python 3 (ipykernel)",
   "language": "python",
   "name": "python3"
  },
  "language_info": {
   "codemirror_mode": {
    "name": "ipython",
    "version": 3
   },
   "file_extension": ".py",
   "mimetype": "text/x-python",
   "name": "python",
   "nbconvert_exporter": "python",
   "pygments_lexer": "ipython3",
   "version": "3.13.2"
  },
  "widgets": {
   "application/vnd.jupyter.widget-state+json": {
    "state": {},
    "version_major": 2,
    "version_minor": 0
   }
  }
 },
 "nbformat": 4,
 "nbformat_minor": 5
}
