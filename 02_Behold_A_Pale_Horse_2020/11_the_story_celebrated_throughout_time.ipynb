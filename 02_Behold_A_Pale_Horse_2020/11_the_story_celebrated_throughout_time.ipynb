{
 "cells": [
  {
   "cell_type": "markdown",
   "id": "5d58d30b",
   "metadata": {},
   "source": [
    "# 🎵 The Story Celebrated Throughout Time\n",
    "\n",
    "**Album:** Behold A Pale Horse 2020\n",
    "\n",
    "**Performed by:** Hawk Eye\n",
    "**Label:** LulzSwag Records\n",
    "**Genre:** Rap\n",
    "**UPC:** 885007879206\n",
    "**Release Date:** 2020-07-04\n",
    "**Dedicated to the late Milton William Cooper**\n",
    "\n",
    "```text\n",
    "[PASTE LYRICS HERE]\n",
    "```"
   ]
  }
 ],
 "metadata": {},
 "nbformat": 4,
 "nbformat_minor": 5
}
