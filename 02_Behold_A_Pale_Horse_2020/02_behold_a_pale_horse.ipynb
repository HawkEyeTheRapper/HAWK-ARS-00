{
 "cells": [
  {
   "cell_type": "markdown",
   "id": "6e992534",
   "metadata": {},
   "source": [
    "# 🎵 Behold A Pale Horse\n",
    "\n",
    "**Album:** Behold A Pale Horse 2020\n",
    "\n",
    "**Performed by:** Hawk Eye The Rapper  \n",
    "**Label:** LulzSwag Records  \n",
    "**Genre:** Rap  \n",
    "**UPC:** 885007879206  \n",
    "\n",
    "🗃️ **Track Metadata**  \n",
    "• Track #: 01  \n",
    "• Title: Warning Shots  \n",
    "• Artist: Hawk Eye The Rapper  \n",
    "• Project: Behold A Pale Horse  \n",
    "released July 4th, 2020\n",
    "**Dedicated to the late Milton William Cooper**\n",
    "\n",
    "```text\n",
    "[PASTE LYRICS HERE]\n",
    "```"
   ]
  }
 ],
 "metadata": {
  "language_info": {
   "name": "python"
  }
 },
 "nbformat": 4,
 "nbformat_minor": 5
}
