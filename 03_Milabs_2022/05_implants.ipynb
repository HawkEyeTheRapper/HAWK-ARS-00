{
 "cells": [
  {
   "cell_type": "markdown",
   "id": "df82c5e5",
   "metadata": {},
   "source": [
    "# 🎵 Implants\n",
    "\n",
    "**Album:** Milabs 2022\n",
    "\n",
    "**Performed by:** Hawk Eye\n",
    "**Label:** LulzSwag Records\n",
    "**Genre:** Rap\n",
    "**UPC:** 885007879169\n",
    "**Release Date:** 2022-02-22\n",
    "**Dedicated to the late Dr. Karla Turner**\n",
    "\n",
    "```text\n",
    "[PASTE LYRICS HERE]\n",
    "```"
   ]
  }
 ],
 "metadata": {},
 "nbformat": 4,
 "nbformat_minor": 5
}
