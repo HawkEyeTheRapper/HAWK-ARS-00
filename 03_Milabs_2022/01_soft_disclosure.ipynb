{
 "cells": [
  {
   "cell_type": "markdown",
   "id": "e772c2ac",
   "metadata": {},
   "source": [
    "# 🎵 Soft Disclosure\n",
    "\n",
    "**Album:** Milabs 2022\n",
    "\n",
    "**Performed by:** Hawk Eye\n",
    "**Label:** LulzSwag Records\n",
    "**Genre:** Rap\n",
    "**UPC:** 885007879169\n",
    "**Release Date:** 2022-02-22\n",
    "**Dedicated to the late Dr. Karla Turner**\n",
    "\n",
    "```text\n",
    "[PASTE LYRICS HERE]\n",
    "```"
   ]
  }
 ],
 "metadata": {},
 "nbformat": 4,
 "nbformat_minor": 5
}
