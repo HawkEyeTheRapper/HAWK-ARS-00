{
 "cells": [
  {
   "cell_type": "markdown",
   "id": "f458e9fb",
   "metadata": {},
   "source": [
    "# 🎵 Ashes\n",
    "\n",
    "**Album:** Full Disclosure 2020\n",
    "\n",
    "**Performed by:** Hawk Eye\n",
    "**Label:** LulzSwag Records\n",
    "**Genre:** Rap\n",
    "**UPC:** 885007879183\n",
    "**Release Date:** 2020-03-01\n",
    "**Dedicated to the late Max Spiers**\n",
    "\n",
    "```text\n",
    "[PASTE LYRICS HERE]\n",
    "```"
   ]
  }
 ],
 "metadata": {
  "kernelspec": {
   "display_name": "Python 3 (ipykernel)",
   "language": "python",
   "name": "python3"
  },
  "language_info": {
   "codemirror_mode": {
    "name": "ipython",
    "version": 3
   },
   "file_extension": ".py",
   "mimetype": "text/x-python",
   "name": "python",
   "nbconvert_exporter": "python",
   "pygments_lexer": "ipython3",
   "version": "3.13.2"
  },
  "widgets": {
   "application/vnd.jupyter.widget-state+json": {
    "state": {},
    "version_major": 2,
    "version_minor": 0
   }
  }
 },
 "nbformat": 4,
 "nbformat_minor": 5
}
