{
 "cells": [
  {
   "cell_type": "markdown",
   "id": "ed74cc4f",
   "metadata": {},
   "source": [
    "# 🎵 Fuck Society\n",
    "\n",
    "**Album:** Full Disclosure 2020\n",
    "\n",
    "**Performed by:** Hawk Eye\n",
    "**Label:** LulzSwag Records\n",
    "**Genre:** Rap\n",
    "**UPC:** 885007879183\n",
    "**Release Date:** 2020-03-01\n",
    "**Dedicated to the late Max Spiers**\n",
    "\n",
    "```text\n",
    "[PASTE LYRICS HERE]\n",
    "```"
   ]
  }
 ],
 "metadata": {},
 "nbformat": 4,
 "nbformat_minor": 5
}
