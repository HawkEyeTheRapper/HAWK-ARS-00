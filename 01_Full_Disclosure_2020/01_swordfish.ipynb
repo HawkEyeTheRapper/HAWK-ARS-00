{
 "cells": [
  {
   "cell_type": "markdown",
   "id": "733895d9",
   "metadata": {},
   "source": [
    "# 🎵 Swordfish\n",
    "\n",
    "**Album:** Full Disclosure 2020\n",
    "\n",
    "**Performed by:** Hawk Eye\n",
    "**Label:** LulzSwag Records\n",
    "**Genre:** Rap\n",
    "**UPC:** 885007879183\n",
    "**Release Date:** 2020-03-01\n",
    "**Dedicated to the late Max Spiers**\n",
    "\n",
    "```text\n",
    "[PASTE LYRICS HERE]\n",
    "```"
   ]
  }
 ],
 "metadata": {},
 "nbformat": 4,
 "nbformat_minor": 5
}
