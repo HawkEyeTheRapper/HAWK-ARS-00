{
 "cells": [
  {
   "cell_type": "markdown",
   "id": "9aa2bf27",
   "metadata": {},
   "source": [
    "# 🎵 Psychological Warfare\n",
    "\n",
    "**Album:** Shadow Banned 2024\n",
    "\n",
    "**Performed by:** Hawk Eye\n",
    "**Label:** Omniversal Media Productions\n",
    "**Genre:** Conscious Hip Hop, Battle Rap\n",
    "**UPC:** 885007961222\n",
    "**Release Date:** 2024-03-01\n",
    "\n",
    "\n",
    "```text\n",
    "[PASTE LYRICS HERE]\n",
    "```"
   ]
  }
 ],
 "metadata": {},
 "nbformat": 4,
 "nbformat_minor": 5
}
