{
 "cells": [
  {
   "cell_type": "markdown",
   "id": "cdc00a96",
   "metadata": {},
   "source": [
    "# 🎵 The Devil's In The Details\n",
    "\n",
    "**Album:** Shadow Banned 2024\n",
    "\n",
    "**Performed by:** Hawk Eye\n",
    "**Label:** Omniversal Media Productions\n",
    "**Genre:** Conscious Hip Hop, Battle Rap\n",
    "**UPC:** 885007961222\n",
    "**Release Date:** 2024-03-01\n",
    "\n",
    "\n",
    "```text\n",
    "[PASTE LYRICS HERE]\n",
    "```"
   ]
  }
 ],
 "metadata": {},
 "nbformat": 4,
 "nbformat_minor": 5
}
