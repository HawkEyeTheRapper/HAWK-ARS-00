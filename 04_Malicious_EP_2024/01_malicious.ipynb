{
 "cells": [
  {
   "cell_type": "markdown",
   "id": "f4ec3be5",
   "metadata": {},
   "source": [
    "# 🎵 Malicious\n",
    "\n",
    "**Album:** Malicious EP 2024\n",
    "\n",
    "**Performed by:** Hawk Eye\n",
    "**Label:** \n",
    "**Genre:** \n",
    "**UPC:** \n",
    "**Release Date:** \n",
    "\n",
    "\n",
    "```text\n",
    "[PASTE LYRICS HERE]\n",
    "```"
   ]
  }
 ],
 "metadata": {},
 "nbformat": 4,
 "nbformat_minor": 5
}
