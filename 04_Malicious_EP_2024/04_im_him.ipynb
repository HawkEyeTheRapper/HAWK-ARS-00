{
 "cells": [
  {
   "cell_type": "markdown",
   "id": "537b9dc0",
   "metadata": {},
   "source": [
    "# 🎵 I'm Him\n",
    "\n",
    "**Album:** Malicious EP 2024\n",
    "\n",
    "**Performed by:** Hawk Eye\n",
    "**Label:** \n",
    "**Genre:** \n",
    "**UPC:** \n",
    "**Release Date:** \n",
    "\n",
    "\n",
    "```text\n",
    "[PASTE LYRICS HERE]\n",
    "```"
   ]
  }
 ],
 "metadata": {},
 "nbformat": 4,
 "nbformat_minor": 5
}
